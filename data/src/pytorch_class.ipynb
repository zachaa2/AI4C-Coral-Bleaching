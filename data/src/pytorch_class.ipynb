{
 "cells": [
  {
   "cell_type": "code",
   "execution_count": 18,
   "metadata": {
    "collapsed": true
   },
   "outputs": [
    {
     "name": "stdout",
     "output_type": "stream",
     "text": [
      "torch.Size([3, 224, 224]) healthy Biscayne Bay 2022-05-01\n"
     ]
    }
   ],
   "source": [
    "import os\n",
    "import pandas as pd\n",
    "import torch\n",
    "from PIL import Image\n",
    "from torch.utils.data import Dataset\n",
    "from torchvision import transforms\n",
    "from sklearn.model_selection import train_test_split\n",
    "from torch.utils.data import DataLoader\n",
    "\n",
    "\n",
    "class CoralBleachingDataset(Dataset):\n",
    "    def __init__(self, root_dir, metadata_file, transform=None,\n",
    "                 image_col='name', label_col='label', location_col='location', date_col='date'):\n",
    "        self.root_dir = root_dir\n",
    "        self.metadata = pd.read_csv(metadata_file)\n",
    "        self.transform = transform\n",
    "        self.image_col = image_col\n",
    "        self.label_col = label_col\n",
    "        self.location_col = location_col\n",
    "        self.date_col = date_col\n",
    "\n",
    "    def __len__(self):\n",
    "        return len(self.metadata)\n",
    "\n",
    "    def __getitem__(self, idx):\n",
    "        # reading\n",
    "        img_name = self.metadata.iloc[idx][self.image_col]\n",
    "        label = self.metadata.iloc[idx][self.label_col]\n",
    "        location = self.metadata.iloc[idx][self.location_col]\n",
    "        date = self.metadata.iloc[idx][self.date_col]\n",
    "\n",
    "        img_path = os.path.join(self.root_dir, label, img_name)\n",
    "        if not os.path.exists(img_path):\n",
    "            raise FileNotFoundError(f\"Image file not found: {img_path}\")\n",
    "\n",
    "        image = Image.open(img_path).convert(\"RGB\")\n",
    "\n",
    "        if self.transform:\n",
    "            image = self.transform(image)\n",
    "\n",
    "        # Returns a dictionary containing images, labels, locations and dates\n",
    "        return {\n",
    "            'image': image,\n",
    "            'label': label,\n",
    "            'location': location,\n",
    "            'date': date\n",
    "        }\n",
    "\n",
    "def split_dataset(metadata_file, test_size=0.2, random_state=42):\n",
    "    metadata = pd.read_csv(metadata_file)\n",
    "    train_data, val_data = train_test_split(metadata, test_size=test_size, random_state=random_state)\n",
    "    train_data.to_csv('train_metadata.csv', index=False)\n",
    "    val_data.to_csv('val_metadata.csv', index=False)\n",
    "    return 'train_metadata.csv', 'val_metadata.csv'\n",
    "\n",
    "def collate_fn(batch):\n",
    "    batch = [sample for sample in batch if sample is not None]\n",
    "    return {\n",
    "        'images': torch.stack([item['image'] for item in batch]),\n",
    "        'labels': [item['label'] for item in batch],\n",
    "        'locations': [item['location'] for item in batch],\n",
    "        'dates': [item['date'] for item in batch]\n",
    "    }\n",
    "\n",
    "# Set the path\n",
    "root_dir = '../data/outputs/images/Altieri Biscayne Bay'\n",
    "metadata_file = os.path.join(root_dir, 'metadata.csv')\n",
    "\n",
    "# Define image transformations\n",
    "transform = transforms.Compose([\n",
    "    transforms.Resize((224, 224)),\n",
    "    transforms.ToTensor(),\n",
    "    transforms.Normalize(mean=[0.485, 0.456, 0.406], std=[0.229, 0.224, 0.225])\n",
    "])\n",
    "\n",
    "# Instantiate the dataset\n",
    "coral_dataset = CoralBleachingDataset(root_dir=root_dir, metadata_file=metadata_file, transform=transform)\n",
    "\n",
    "sample = coral_dataset[0]\n",
    "print(sample['image'].shape, sample['label'], sample['location'], sample['date'])"
   ]
  },
  {
   "cell_type": "code",
   "execution_count": 19,
   "outputs": [
    {
     "name": "stdout",
     "output_type": "stream",
     "text": [
      "Batch images shape: torch.Size([23, 3, 224, 224])\n",
      "Batch labels: ['dead', 'healthy', 'healthy', 'healthy', 'healthy', 'healthy', 'bleached', 'healthy', 'healthy', 'healthy', 'healthy', 'healthy', 'healthy', 'healthy', 'healthy', 'healthy', 'healthy', 'dead', 'bleached', 'dead', 'bleached', 'dead', 'bleached']\n",
      "Batch locations: ['Biscayne Bay', 'Biscayne Bay', 'Biscayne Bay', 'Biscayne Bay', 'Biscayne Bay', 'Biscayne Bay', 'Biscayne Bay', 'Biscayne Bay', 'Biscayne Bay', 'Biscayne Bay', 'Biscayne Bay', 'Biscayne Bay', 'Biscayne Bay', 'Biscayne Bay', 'Biscayne Bay', 'Biscayne Bay', 'Biscayne Bay', 'Biscayne Bay', 'Biscayne Bay', 'Biscayne Bay', 'Biscayne Bay', 'Biscayne Bay', 'Biscayne Bay']\n",
      "Batch dates: ['2022-05-01', '2022-05-01', '2022-05-01', '2022-05-01', '2022-05-01', '2022-05-01', '2022-05-01', '2022-05-01', '2022-05-01', '2022-05-01', '2022-05-01', '2022-05-01', '2022-05-01', '2022-05-01', '2022-05-01', '2022-05-01', '2022-05-01', '2022-05-01', '2022-05-01', '2022-05-01', '2022-05-01', '2022-05-01', '2022-05-01']\n"
     ]
    }
   ],
   "source": [
    "\n",
    "train_metadata_file, val_metadata_file = split_dataset(metadata_file, test_size=0.2)\n",
    "\n",
    "# Instantiate the dataset\n",
    "train_dataset = CoralBleachingDataset(root_dir=root_dir, metadata_file=train_metadata_file, transform=transform)\n",
    "val_dataset = CoralBleachingDataset(root_dir=root_dir, metadata_file=val_metadata_file, transform=transform)\n",
    "\n",
    "# Use DataLoader to load data\n",
    "train_loader = DataLoader(train_dataset, batch_size=32, shuffle=True, collate_fn=collate_fn)\n",
    "val_loader = DataLoader(val_dataset, batch_size=32, shuffle=False, collate_fn=collate_fn)\n",
    "\n",
    "for batch in train_loader:\n",
    "    print(\"Batch images shape:\", batch['images'].shape)\n",
    "    print(\"Batch labels:\", batch['labels'])\n",
    "    print(\"Batch locations:\", batch['locations'])\n",
    "    print(\"Batch dates:\", batch['dates'])\n",
    "    break"
   ],
   "metadata": {
    "collapsed": false
   }
  }
 ],
 "metadata": {
  "kernelspec": {
   "display_name": "Python 3",
   "language": "python",
   "name": "python3"
  },
  "language_info": {
   "codemirror_mode": {
    "name": "ipython",
    "version": 2
   },
   "file_extension": ".py",
   "mimetype": "text/x-python",
   "name": "python",
   "nbconvert_exporter": "python",
   "pygments_lexer": "ipython2",
   "version": "2.7.6"
  }
 },
 "nbformat": 4,
 "nbformat_minor": 0
}
